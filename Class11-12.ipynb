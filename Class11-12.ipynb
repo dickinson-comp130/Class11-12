{
 "cells": [
  {
   "cell_type": "markdown",
   "metadata": {},
   "source": [
    "# Class 11-12 - Simple Repetition  \n",
    "**COMP130 - Introduction to Computing**  \n",
    "**Dickinson College**  "
   ]
  },
  {
   "cell_type": "markdown",
   "metadata": {},
   "source": [
    "### Names:"
   ]
  },
  {
   "cell_type": "markdown",
   "metadata": {},
   "source": []
  },
  {
   "cell_type": "markdown",
   "metadata": {},
   "source": [
    "### Practice with `for`"
   ]
  },
  {
   "cell_type": "markdown",
   "metadata": {},
   "source": [
    "__Q1:__ Modify the following program so that it prints `Owww, quit it` 10 times."
   ]
  },
  {
   "cell_type": "code",
   "execution_count": 6,
   "metadata": {},
   "outputs": [
    {
     "name": "stdout",
     "output_type": "stream",
     "text": [
      "Owww, quit it!\n",
      "Owww, quit it!\n",
      "Owww, quit it!\n"
     ]
    }
   ],
   "source": [
    "for line in range(3):\n",
    "    print(\"Owww, quit it!\")"
   ]
  },
  {
   "cell_type": "code",
   "execution_count": null,
   "metadata": {},
   "outputs": [],
   "source": []
  },
  {
   "cell_type": "markdown",
   "metadata": {},
   "source": [
    "__Q2:__ Consider the the statements given below:\n",
    "```Python\n",
    "print('I know I am...\")\n",
    "for i in range(3):\n",
    "print('...but what are you?')\n",
    "```\n",
    "\n",
    "Rearrange the above statements into the code cell below so that the output is:\n",
    "```\n",
    "I know I am...\n",
    "...but what are you?\n",
    "I know I am...\n",
    "...but what are you?\n",
    "I know I am...\n",
    "...but what are you?\n",
    "```"
   ]
  },
  {
   "cell_type": "code",
   "execution_count": null,
   "metadata": {},
   "outputs": [],
   "source": []
  },
  {
   "cell_type": "markdown",
   "metadata": {},
   "source": [
    "__Q3:__ Consider the the statements given below:\n",
    "```Python\n",
    "print('very')\n",
    "print('repetitive.')\n",
    "for i in range(7):\n",
    "print('I am...')\n",
    "```\n",
    "\n",
    "Rearrange the above statements into the code cell so that the output is:\n",
    "```\n",
    "I am...\n",
    "very \n",
    "very\n",
    "very\n",
    "very\n",
    "very\n",
    "very\n",
    "very\n",
    "repetitive.\n",
    "```"
   ]
  },
  {
   "cell_type": "code",
   "execution_count": null,
   "metadata": {},
   "outputs": [],
   "source": []
  },
  {
   "cell_type": "markdown",
   "metadata": {},
   "source": [
    "__Q4:__ The argument to `range` in the `for` loops that we have used thus far has always been a constant value (e.g. `3` or `5`).  The argument to `range` can also be a variable or an expression.  Write two small examples in the cells below that show a `for` loop where the number of repetitions is given by:\n",
    "- a variable. Note: You'll also have to create the variable and assign it a value to get this to work.\n",
    "- an expression involving your variable and some arithmetic."
   ]
  },
  {
   "cell_type": "code",
   "execution_count": null,
   "metadata": {},
   "outputs": [],
   "source": []
  },
  {
   "cell_type": "code",
   "execution_count": null,
   "metadata": {},
   "outputs": [],
   "source": []
  },
  {
   "cell_type": "markdown",
   "metadata": {},
   "source": [
    "__Q5:__ Write a function named `very_repetitive` based on __Q3__ that, when called, prints the output with `very` appearing a specified number of times.  For example the call: `very_repetitive(10)` would cause `very` to appear 10 times.  Also include a call to your function that makes `very` appear `5` times."
   ]
  },
  {
   "cell_type": "code",
   "execution_count": null,
   "metadata": {},
   "outputs": [],
   "source": []
  },
  {
   "cell_type": "markdown",
   "metadata": {},
   "source": [
    "__Q6:__ Write a program that prompts (i.e. use the `input` function) the user for their name and a number and prints their name the specified number of times."
   ]
  },
  {
   "cell_type": "code",
   "execution_count": null,
   "metadata": {},
   "outputs": [],
   "source": []
  },
  {
   "cell_type": "markdown",
   "metadata": {},
   "source": [
    "### Repetitive Turtles"
   ]
  },
  {
   "cell_type": "markdown",
   "metadata": {},
   "source": [
    "The following few exercises will give you some practice identifying repetition and then writing `for` loops to carry out those repetitive operations. "
   ]
  },
  {
   "cell_type": "markdown",
   "metadata": {},
   "source": [
    "__Q7:__ Write function that takes a `Turtle` as a parameter and uses it to draw a staircase with 3 stairs as shown here:\n",
    "\n",
    "![Stair case with 3 steps](stairs.jpeg)\n",
    "\n",
    "The stairs should be 50 pixels on a side. Include a call to your function so that the staircase is displayed when the cell is run."
   ]
  },
  {
   "cell_type": "markdown",
   "metadata": {},
   "source": [
    "__Q8:__ Modify your function from __Q7__ so that it accepts a parameter specifying how many stairs to draw. Then call your function so that it draws `7` stairs."
   ]
  },
  {
   "cell_type": "code",
   "execution_count": null,
   "metadata": {},
   "outputs": [],
   "source": []
  },
  {
   "cell_type": "markdown",
   "metadata": {},
   "source": [
    "__Q9:__ Write a function that takes a `Turtle` and a side length as parameters and uses them to draw the following figure with the side of each square being the specified length:\n",
    "\n",
    "![Square four leaf clover figure](boxes.jpeg)\n",
    "\n",
    "Hint: Identify the repeated element in the figure. It has 3 lines, two short and one long.  Then use a `for` loop so that when that element is repeated the right number of times the full figure is drawn.\n",
    "\n",
    "Include a call to your function so that the figure is displayed when the cell is returned."
   ]
  },
  {
   "cell_type": "code",
   "execution_count": null,
   "metadata": {},
   "outputs": [],
   "source": []
  },
  {
   "cell_type": "markdown",
   "metadata": {},
   "source": [
    "__Q10:__ Write a function that takes a `Turtle` and a side length as parameters and uses them to draw the following figure with the hypotenuse of each triangle being the specified length:\n",
    "\n",
    "![Triangle four leaf clover figure](triangles.jpeg)\n",
    "\n",
    "Note: The diagonal lines in the figure are exactly twice as long as the hypotenuse of the triangles.\n",
    "\n",
    "Include a call to your function so that the figure is displayed when the cell is returned."
   ]
  },
  {
   "cell_type": "code",
   "execution_count": null,
   "metadata": {},
   "outputs": [],
   "source": []
  },
  {
   "cell_type": "markdown",
   "metadata": {},
   "source": [
    "### Loops in Graphics and Animation"
   ]
  },
  {
   "cell_type": "markdown",
   "metadata": {},
   "source": [
    "The program below should look roughly familiar, it draws the simple house from Lab 04.  In addition, it has a function `draw_bird` that draws a simplistic bird at a specified point.  Run the program to refresh your memory as to what it does and to see the bird.  In this section you will be using `for` loops to add things to this picture."
   ]
  },
  {
   "cell_type": "code",
   "execution_count": 6,
   "metadata": {},
   "outputs": [],
   "source": [
    "from graphics import *    \n",
    "\n",
    "def draw_house(win):\n",
    "  building=Rectangle(Point(100,350),Point(200,300))\n",
    "  building.setFill('brown3')\n",
    "  building.draw(win)\n",
    "\n",
    "  roof=Polygon(Point(80,300), Point(220,300), Point(150,250))\n",
    "  roof.setFill('gray50')\n",
    "  roof.draw(win)\n",
    "    \n",
    "def draw_bird(win, loc):\n",
    "  body=Circle(loc,2)\n",
    "  body.setFill(\"black\")\n",
    "  body.draw(win)\n",
    "              \n",
    "  left_wing1=Line(loc, Point(loc.getX()-10,loc.getY()-5))\n",
    "  left_wing1.draw(win)\n",
    "  left_wing2=Line(Point(loc.getX()-10,loc.getY()-5), Point(loc.getX()-20,loc.getY()))\n",
    "  left_wing2.draw(win)\n",
    "\n",
    "  right_wing1=Line(loc, Point(loc.getX()+10,loc.getY()-5))\n",
    "  right_wing1.draw(win)\n",
    "  right_wing2=Line(Point(loc.getX()+10,loc.getY()-5),Point(loc.getX()+20,loc.getY()))\n",
    "  right_wing2.draw(win)\n",
    "                   \n",
    "main_win=GraphWin('picture',600,400)\n",
    "draw_house(main_win)\n",
    "draw_bird(main_win, Point(300,100))\n",
    "main_win.getKey()\n",
    "main_win.close()"
   ]
  },
  {
   "cell_type": "markdown",
   "metadata": {
    "deletable": false,
    "editable": false,
    "run_control": {
     "frozen": true
    }
   },
   "source": [
    "__Q11:__ Add a function `draw_birds` to the above program that will draw a specified number of birds at random locations in the sky.  For example, if your function is called `random_birds` then the call `random_birds(main_win,20)` will display 20 birds at random locations in the sky.  Include a call to your function that draws 15 birds in the sky."
   ]
  },
  {
   "cell_type": "markdown",
   "metadata": {
    "deletable": false,
    "editable": false,
    "run_control": {
     "frozen": true
    }
   },
   "source": [
    "__Q12:__ Add a function to the above program that draws the sun (e.g a yellow circle) and animates it moving from the left edge of the screen to the right edge of the screen. For this animation the sun can move in a straight line across the sky.  Recall that a shape can be animated by drawing it, sleeping (`time.sleep`) for a short time and then moving (`graphics.move`) it by some small amount.  \n",
    "\n",
    "If you get that working and want an extra challenge, modify your program so that the sun moves in an arc across the sky instead of in a straight line.  That is, start the sun low on the left, have it rise as it goes across the sky to the middle, and then fall as it continues to the right edge of the screen."
   ]
  },
  {
   "cell_type": "markdown",
   "metadata": {},
   "source": [
    "![Stop sign](stop.png)\n",
    "End of Class 11 material."
   ]
  },
  {
   "cell_type": "markdown",
   "metadata": {},
   "source": [
    "### Loop Patterns"
   ]
  },
  {
   "cell_type": "markdown",
   "metadata": {},
   "source": [
    "__Q13:__ Consider the following Python statements:\n",
    "\n",
    "```Python\n",
    "max_price=max(max_price, price)`\n",
    "print(\"The highest price item costs \" + str(max_price))`\n",
    "price=float(input(\"Enter the price: \"))`\n",
    "for item in range(items-1):`\n",
    "items=int(input(\"How many items?\"))`\n",
    "max_price=float(input(\"Enter the price: \"))`\n",
    "```\n",
    "\n",
    "Rearrange the above statements into a program that:\n",
    "- prompts the user for a number of items,\n",
    "- reads in the price of each item,\n",
    "- prints the price of the highest price item that was entered. "
   ]
  },
  {
   "cell_type": "code",
   "execution_count": null,
   "metadata": {},
   "outputs": [],
   "source": []
  },
  {
   "cell_type": "markdown",
   "metadata": {},
   "source": [
    "__Q14:__ Add statements to your answer for __Q13__ so that it also prints the price of the lowest price item that was entered."
   ]
  },
  {
   "cell_type": "markdown",
   "metadata": {},
   "source": [
    "__Q15:__ Write statements that:\n",
    "- prompt the user to enter a string\n",
    "- prints the number of characters in the string that was entered.  \n",
    "\n",
    "So, for example if the user enters `Et tu, Brute?`, the number 13 will be printed."
   ]
  },
  {
   "cell_type": "code",
   "execution_count": null,
   "metadata": {},
   "outputs": [],
   "source": []
  },
  {
   "cell_type": "markdown",
   "metadata": {},
   "source": [
    "__Q16:__ Write a program that:\n",
    "\n",
    "- reads 5 strings from the user, one by one\n",
    "- prints the number of characters in the longest string that was entered."
   ]
  },
  {
   "cell_type": "code",
   "execution_count": null,
   "metadata": {},
   "outputs": [],
   "source": []
  },
  {
   "cell_type": "markdown",
   "metadata": {},
   "source": [
    "__Q17:__ Add statements to your program in __Q16__ so that it also prints out the average length of the strings that were entered."
   ]
  },
  {
   "cell_type": "markdown",
   "metadata": {},
   "source": [
    "__Q18:__ Consider the Python statements below:\n",
    "\n",
    "```Python\n",
    "cur_num = cur_num+1\n",
    "def print_range(low, high):\n",
    "print(cur_num)\n",
    "cur_num=low\n",
    "print_range(5,10)\n",
    "for num in range(num_vals):\n",
    "num_vals = (high-low)+1\n",
    "```\n",
    "\n",
    "Rearrange the above statements into a program that prints out the values in a specified range (e.g. 5...10)."
   ]
  },
  {
   "cell_type": "code",
   "execution_count": null,
   "metadata": {},
   "outputs": [],
   "source": []
  },
  {
   "cell_type": "markdown",
   "metadata": {},
   "source": [
    "__Q19:__ Define a function named `spiral` that accepts two parameters, a turtle and a number of sides and draws a spiral like the one shown below. \n",
    "\n",
    "![A spiral turtle path](spiral.jpeg)\n",
    "\n",
    "The first side (in the center) should be 10 pixels and each successive side should be 10 pixels longer than the previous.  Call your function so that it draws a spiral with 25 sides."
   ]
  },
  {
   "cell_type": "code",
   "execution_count": null,
   "metadata": {},
   "outputs": [],
   "source": []
  },
  {
   "cell_type": "markdown",
   "metadata": {},
   "source": [
    "__Q20:__ Write a program that finds the average value of rolling of 3 six sided die.  Your program should:\n",
    "- Use the `random` module to simulate rolling of the die\n",
    "- Roll 3 six sided die 100 times\n",
    "- Find the average value of the sum of the 3 die."
   ]
  },
  {
   "cell_type": "code",
   "execution_count": null,
   "metadata": {},
   "outputs": [],
   "source": []
  }
 ],
 "metadata": {
  "kernelspec": {
   "display_name": "Python 3",
   "language": "python",
   "name": "python3"
  },
  "language_info": {
   "codemirror_mode": {
    "name": "ipython",
    "version": 3
   },
   "file_extension": ".py",
   "mimetype": "text/x-python",
   "name": "python",
   "nbconvert_exporter": "python",
   "pygments_lexer": "ipython3",
   "version": "3.7.3"
  }
 },
 "nbformat": 4,
 "nbformat_minor": 2
}
