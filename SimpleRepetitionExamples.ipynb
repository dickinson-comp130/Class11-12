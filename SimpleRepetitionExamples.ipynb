{
 "cells": [
  {
   "cell_type": "markdown",
   "metadata": {},
   "source": [
    "# Class 11-12 - Simple Repetition Examples  \n",
    "**COMP130 - Introduction to Computing**  \n",
    "**Dickinson College** "
   ]
  },
  {
   "cell_type": "markdown",
   "metadata": {},
   "source": [
    "We've had a number of examples or exercises where you have had to repeat the same code multiple times to achieve an effect (e.g. drawing a square, animating a shape). In these classes we'll begin to learn about the first of several programming constructs that allow us to execute a collection of statements multiple times without repeating them. These constructs provide for *repetition* or as programmers often refer to it *iteration*."
   ]
  },
  {
   "cell_type": "markdown",
   "metadata": {},
   "source": [
    "### Drawing a Square the Hard Way"
   ]
  },
  {
   "cell_type": "markdown",
   "metadata": {},
   "source": [
    "Without any construct for drawing a square we might write a function like:"
   ]
  },
  {
   "cell_type": "code",
   "execution_count": 1,
   "metadata": {},
   "outputs": [],
   "source": [
    "def draw_square(sq_turtle, side_len):\n",
    "    sq_turtle.forward(side_len)\n",
    "    sq_turtle.left(90)\n",
    "    sq_turtle.forward(side_len)\n",
    "    sq_turtle.left(90)\n",
    "    sq_turtle.forward(side_len)\n",
    "    sq_turtle.left(90)\n",
    "    sq_turtle.forward(side_len)\n",
    "    sq.turtle.left(90)  # just so we are back where we started."
   ]
  },
  {
   "cell_type": "code",
   "execution_count": 2,
   "metadata": {},
   "outputs": [],
   "source": [
    "import turtle\n",
    "\n",
    "diego=turtle.Turtle()\n",
    "draw_square(diego, 150)"
   ]
  },
  {
   "cell_type": "markdown",
   "metadata": {},
   "source": [
    "### Drawing a Square with a `for` Loop"
   ]
  },
  {
   "cell_type": "markdown",
   "metadata": {},
   "source": [
    "In most programming languages there is a statement called a `for` loop that provides for repeating some statements a specified number of times.  The reading introduced the simplest form of the Python `for` loop.  We can use that to simplify the `draw_square` function."
   ]
  },
  {
   "cell_type": "code",
   "execution_count": 1,
   "metadata": {},
   "outputs": [],
   "source": [
    "def draw_square(sq_turtle, side_len):\n",
    "    for side in range(4):\n",
    "        sq_turtle.forward(side_len)\n",
    "        sq_turtle.left(90)"
   ]
  },
  {
   "cell_type": "code",
   "execution_count": null,
   "metadata": {},
   "outputs": [],
   "source": [
    "import turtle\n",
    "\n",
    "pryia=turtle.Turtle()\n",
    "draw_square(pryia, 150)"
   ]
  },
  {
   "cell_type": "markdown",
   "metadata": {},
   "source": [
    "### Filling in the Blank... Square"
   ]
  },
  {
   "cell_type": "markdown",
   "metadata": {},
   "source": [
    "Sometimes there will be some things we want to do once before the loop and/or once after the loop.  For example, imagine we want a function that makes a filled in square. We will need to set the `fillcolor` and invoke the `begin_fill` method before drawing the square and then invoke the `end_fill` method after drawing the square. To do this we can treat the `for` loop is like any other statement. Then we can add statements before it and also after it."
   ]
  },
  {
   "cell_type": "code",
   "execution_count": 2,
   "metadata": {},
   "outputs": [],
   "source": [
    "def filled_square(sq_turtle, side_len, color):\n",
    "    sq_turtle.fillcolor(color)\n",
    "    sq_turtle.begin_fill()\n",
    "    \n",
    "    for side in range(4):\n",
    "        sq_turtle.forward(side_len)\n",
    "        sq_turtle.left(90)\n",
    "        \n",
    "    sq_turtle.end_fill()"
   ]
  },
  {
   "cell_type": "code",
   "execution_count": 3,
   "metadata": {},
   "outputs": [],
   "source": [
    "import turtle\n",
    "\n",
    "max=turtle.Turtle()\n",
    "filled_square(max, 100, \"green\")"
   ]
  },
  {
   "cell_type": "markdown",
   "metadata": {},
   "source": [
    "![Stop sign](stop.png)\n",
    "End of Class 11 material."
   ]
  },
  {
   "cell_type": "markdown",
   "metadata": {},
   "source": [
    "### Loop Patterns and Aggregate Information"
   ]
  },
  {
   "cell_type": "markdown",
   "metadata": {},
   "source": [
    "Things like finding the total, average or the maximum or minimum of a list of numbers are inherently repetitive tasks. Thus, in code they will use a loop. The code for many of these types of computation follow a common pattern.  The following two examples will illustrate that pattern."
   ]
  },
  {
   "cell_type": "markdown",
   "metadata": {},
   "source": [
    "### Computing a Total"
   ]
  },
  {
   "cell_type": "markdown",
   "metadata": {},
   "source": [
    "To find the total of a list of numbers each number one after the other can be added to a total.  For example, to compute the total rainfall for some number of days:"
   ]
  },
  {
   "cell_type": "code",
   "execution_count": 3,
   "metadata": {},
   "outputs": [
    {
     "name": "stdout",
     "output_type": "stream",
     "text": [
      "How many days?3\n",
      "How much rain: 2\n",
      "How much rain: 7\n",
      "How much rain: 4\n",
      "The total rainfall was: 13\n"
     ]
    }
   ],
   "source": [
    "days=int(input(\"How many days?\"))\n",
    "\n",
    "total_rain=0\n",
    "\n",
    "for day in range(days):\n",
    "    rain=int(input(\"How much rain: \"))\n",
    "    total_rain = total_rain + rain\n",
    "    \n",
    "print(\"The total rainfall was: \" + str(total_rain))"
   ]
  },
  {
   "cell_type": "markdown",
   "metadata": {},
   "source": [
    "### Finding the Maximum"
   ]
  },
  {
   "cell_type": "markdown",
   "metadata": {},
   "source": [
    "To find the maximum of a list of numbers we can compare each successive number to the largest one that we have seen so far.  For example, to find the largest amount of rainfall for some number of days:"
   ]
  },
  {
   "cell_type": "code",
   "execution_count": 4,
   "metadata": {},
   "outputs": [
    {
     "name": "stdout",
     "output_type": "stream",
     "text": [
      "How many days?4\n",
      "How much rain: 1\n",
      "How much rain: 7\n",
      "How much rain: 2\n",
      "How much rain: 5\n",
      "The maximum rainfall was: 7\n"
     ]
    }
   ],
   "source": [
    "days=int(input(\"How many days?\"))\n",
    "\n",
    "max_rain=int(input(\"How much rain: \"))\n",
    "\n",
    "for day in range(days-1):\n",
    "    rain=int(input(\"How much rain: \"))\n",
    "    max_rain=max(max_rain, rain)\n",
    "    \n",
    "print(\"The maximum rainfall was: \" + str(max_rain))"
   ]
  }
 ],
 "metadata": {
  "kernelspec": {
   "display_name": "Python 3",
   "language": "python",
   "name": "python3"
  },
  "language_info": {
   "codemirror_mode": {
    "name": "ipython",
    "version": 3
   },
   "file_extension": ".py",
   "mimetype": "text/x-python",
   "name": "python",
   "nbconvert_exporter": "python",
   "pygments_lexer": "ipython3",
   "version": "3.7.3"
  }
 },
 "nbformat": 4,
 "nbformat_minor": 2
}
